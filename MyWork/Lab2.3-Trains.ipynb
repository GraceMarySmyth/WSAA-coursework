{
 "cells": [
  {
   "cell_type": "code",
   "execution_count": null,
   "metadata": {},
   "outputs": [],
   "source": [
    "import requests\n",
    "import csv\n",
    "from xml.dom.minidom import parseString"
   ]
  },
  {
   "cell_type": "code",
   "execution_count": null,
   "metadata": {},
   "outputs": [],
   "source": [
    "url = \"http://api.irishrail.ie/realtime/realtime.asmx/getCurrentTrainsXML\"\n",
    "page = requests.get(url)\n",
    "doc = parseString(page.content)"
   ]
  },
  {
   "cell_type": "code",
   "execution_count": null,
   "metadata": {},
   "outputs": [],
   "source": [
    "# print(doc.toprettyxml())"
   ]
  },
  {
   "cell_type": "code",
   "execution_count": null,
   "metadata": {},
   "outputs": [],
   "source": [
    "with open(\"trainxml.xml\",\"w\") as xmlfp:\n",
    "    doc.writexml(xmlfp)"
   ]
  },
  {
   "cell_type": "code",
   "execution_count": null,
   "metadata": {},
   "outputs": [],
   "source": [
    "objTrainPositionNodes = doc.getElementsByTagName(\"objTrainPositions\")\n",
    "for objTrainPosition in objTrainPositionNodes:\n",
    "    traincodeNode = objTrainPosition.getElementsByTagName(\"Traincode\").item(0)\n",
    "    if traincodeNode is not None and traincodeNode.firstChild is not None:\n",
    "        traincode = traincodeNode.firstChild.nodeValue.strip()\n",
    "        print(traincode)"
   ]
  },
  {
   "cell_type": "code",
   "execution_count": null,
   "metadata": {},
   "outputs": [],
   "source": [
    "with  open('week03_train.csv', mode='w', newline='') as train_file:     \n",
    "    train_writer = csv.writer(train_file, delimiter='\\t', quotechar='\"', quoting=csv.QUOTE_MINIMAL)        \n",
    "    \n",
    "    objTrainPositionsNodes = doc.getElementsByTagName(\"objTrainPositions\") \n",
    "    for objTrainPositionsNode in objTrainPositionsNodes:       \n",
    "        traincodenode = objTrainPositionsNode.getElementsByTagName(\"TrainCode\").item(0)      \n",
    "        traincode = traincodenode.firstChild.nodeValue.strip() "
   ]
  },
  {
   "cell_type": "code",
   "execution_count": null,
   "metadata": {},
   "outputs": [],
   "source": [
    "dataList = []\n",
    "dataList.append(traincode)\n",
    "train_writer.writerow(dataList)\n",
    "print(\"CSV File Created\")"
   ]
  }
 ],
 "metadata": {
  "language_info": {
   "name": "python"
  }
 },
 "nbformat": 4,
 "nbformat_minor": 2
}
