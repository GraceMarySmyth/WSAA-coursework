{
 "cells": [
  {
   "cell_type": "code",
   "execution_count": 1,
   "metadata": {},
   "outputs": [],
   "source": [
    "import requests\n",
    "import csv\n",
    "from xml.dom.minidom import parseString"
   ]
  },
  {
   "cell_type": "code",
   "execution_count": 2,
   "metadata": {},
   "outputs": [],
   "source": [
    "url = \"http://api.irishrail.ie/realtime/realtime.asmx/getCurrentTrainsXML\"\n",
    "page = requests.get(url)\n",
    "doc = parseString(page.content)"
   ]
  },
  {
   "cell_type": "code",
   "execution_count": 3,
   "metadata": {},
   "outputs": [],
   "source": [
    "# print(doc.toprettyxml())"
   ]
  },
  {
   "cell_type": "code",
   "execution_count": 4,
   "metadata": {},
   "outputs": [],
   "source": [
    "with open(\"trainxml.xml\",\"w\") as xmlfp:\n",
    "    doc.writexml(xmlfp)"
   ]
  },
  {
   "cell_type": "code",
   "execution_count": 5,
   "metadata": {},
   "outputs": [],
   "source": [
    "objTrainPositionNodes = doc.getElementsByTagName(\"objTrainPositions\")\n",
    "for objTrainPosition in objTrainPositionNodes:\n",
    "    traincodeNode = objTrainPosition.getElementsByTagName(\"Traincode\").item(0)\n",
    "    if traincodeNode is not None and traincodeNode.firstChild is not None:\n",
    "        traincode = traincodeNode.firstChild.nodeValue.strip()\n",
    "        print(traincode)"
   ]
  },
  {
   "cell_type": "code",
   "execution_count": 6,
   "metadata": {},
   "outputs": [],
   "source": [
    "with  open('week03_train.csv', mode='w', newline='') as train_file:     \n",
    "    train_writer = csv.writer(train_file, delimiter='\\t', quotechar='\"', quoting=csv.QUOTE_MINIMAL)        \n",
    "    \n",
    "    objTrainPositionsNodes = doc.getElementsByTagName(\"objTrainPositions\") \n",
    "    for objTrainPositionsNode in objTrainPositionsNodes:       \n",
    "        traincodenode = objTrainPositionsNode.getElementsByTagName(\"TrainCode\").item(0)      \n",
    "        traincode = traincodenode.firstChild.nodeValue.strip() "
   ]
  },
  {
   "cell_type": "code",
   "execution_count": 7,
   "metadata": {},
   "outputs": [
    {
     "ename": "ValueError",
     "evalue": "I/O operation on closed file.",
     "output_type": "error",
     "traceback": [
      "\u001b[0;31m---------------------------------------------------------------------------\u001b[0m",
      "\u001b[0;31mValueError\u001b[0m                                Traceback (most recent call last)",
      "Cell \u001b[0;32mIn[7], line 3\u001b[0m\n\u001b[1;32m      1\u001b[0m dataList \u001b[38;5;241m=\u001b[39m []\n\u001b[1;32m      2\u001b[0m dataList\u001b[38;5;241m.\u001b[39mappend(traincode)\n\u001b[0;32m----> 3\u001b[0m \u001b[43mtrain_writer\u001b[49m\u001b[38;5;241;43m.\u001b[39;49m\u001b[43mwriterow\u001b[49m\u001b[43m(\u001b[49m\u001b[43mdataList\u001b[49m\u001b[43m)\u001b[49m\n\u001b[1;32m      4\u001b[0m \u001b[38;5;28mprint\u001b[39m(\u001b[38;5;124m\"\u001b[39m\u001b[38;5;124mCSV File Created\u001b[39m\u001b[38;5;124m\"\u001b[39m)\n",
      "\u001b[0;31mValueError\u001b[0m: I/O operation on closed file."
     ]
    }
   ],
   "source": [
    "dataList = []\n",
    "dataList.append(traincode)\n",
    "train_writer.writerow(dataList)\n",
    "print(\"CSV File Created\")"
   ]
  }
 ],
 "metadata": {
  "kernelspec": {
   "display_name": "Python 3",
   "language": "python",
   "name": "python3"
  },
  "language_info": {
   "codemirror_mode": {
    "name": "ipython",
    "version": 3
   },
   "file_extension": ".py",
   "mimetype": "text/x-python",
   "name": "python",
   "nbconvert_exporter": "python",
   "pygments_lexer": "ipython3",
   "version": "3.12.1"
  }
 },
 "nbformat": 4,
 "nbformat_minor": 2
}
